{
  "nbformat": 4,
  "nbformat_minor": 0,
  "metadata": {
    "colab": {
      "provenance": []
    },
    "kernelspec": {
      "name": "python3",
      "display_name": "Python 3"
    },
    "language_info": {
      "name": "python"
    }
  },
  "cells": [
    {
      "cell_type": "code",
      "execution_count": 7,
      "metadata": {
        "colab": {
          "base_uri": "https://localhost:8080/"
        },
        "id": "rpg3QmOpIcAg",
        "outputId": "c3949c7b-97cb-47e3-813b-10f59c036b1a"
      },
      "outputs": [
        {
          "output_type": "stream",
          "name": "stdout",
          "text": [
            "Drive already mounted at /content/drive; to attempt to forcibly remount, call drive.mount(\"/content/drive\", force_remount=True).\n"
          ]
        }
      ],
      "source": [
        "#import libraries and google drive data\n",
        "import pandas as pd\n",
        "import re\n",
        "from google.colab import drive\n",
        "drive.mount('/content/drive')\n",
        "file_path = '/content/drive/MyDrive/Official_Data.csv'\n",
        "df = pd.read_csv(file_path)"
      ]
    },
    {
      "cell_type": "code",
      "source": [
        "#convert timestamp columns to datetime format\n",
        "timestamp_cols = [\"Time Start\", \"Time End\"]\n",
        "for col in timestamp_cols:\n",
        "    if col in df.columns:\n",
        "        df[col] = pd.to_datetime(df[col], errors='coerce')\n",
        "\n",
        "#droping the rows where spectral range values are missing\n",
        "df_cleaned = df.dropna(subset=[\"Max Spectral Range (eV)\", \"Min Spectral Range (eV)\"])\n",
        "df_cleaned = df_cleaned.drop(columns=[\"Unnamed: 5\"], errors='ignore')"
      ],
      "metadata": {
        "id": "cVqT7NOPIzTG"
      },
      "execution_count": 8,
      "outputs": []
    },
    {
      "cell_type": "code",
      "source": [
        "#conversion factors needed\n",
        "keV_to_eV = 1e3  # 1 keV = 1000 eV\n",
        "MeV_to_eV = 1e6  # 1 MeV = 1,000,000 eV\n",
        "h_c = 12398.42  # planck's constant * speed of light in eV * angstrom\n",
        "\n",
        "#function to convert all values to eV\n",
        "def convert_to_eV(value, unit):\n",
        "    if unit.lower() == 'kev':\n",
        "        return value * keV_to_eV\n",
        "    elif unit.lower() == 'mev':\n",
        "        return value * MeV_to_eV\n",
        "    elif unit.lower() == 'angstrom':\n",
        "        return h_c / value  # E (eV) = hc / lambda\n",
        "    return value\n",
        "\n",
        "#function to extract the numeric value and unit from the spectral range string\n",
        "def extract_value_and_unit(spectral_range):\n",
        "    if isinstance(spectral_range, (int, float)):\n",
        "        return spectral_range, None\n",
        "    match = re.match(r\"(\\d+(\\.\\d+)?)\\s*(\\w+)\", str(spectral_range))\n",
        "    if match:\n",
        "        value = float(match.group(1))\n",
        "        unit = match.group(3)\n",
        "        return value, unit\n",
        "    return None, None\n",
        "\n",
        "#apply conversion to both the \"Max Spectral Range (eV)\" and the \"Min Spectral Range (eV)\"\n",
        "def convert_row(row):\n",
        "    max_value, max_unit = extract_value_and_unit(row['Max Spectral Range (eV)'])\n",
        "    min_value, min_unit = extract_value_and_unit(row['Min Spectral Range (eV)'])\n",
        "    if max_value is not None and max_unit is not None:\n",
        "        row['Max Spectral Range (eV)'] = convert_to_eV(max_value, max_unit)\n",
        "    if min_value is not None and min_unit is not None:\n",
        "        row['Min Spectral Range (eV)'] = convert_to_eV(min_value, min_unit)\n",
        "    return row\n",
        "\n",
        "#apply the conversion function to each row and drop other columns\n",
        "df = df.apply(convert_row, axis=1)\n",
        "df = df.drop(['Max Spectral Range', 'Min Spectral Range'], axis=1, errors='ignore')"
      ],
      "metadata": {
        "id": "YwtGdHwdJJVg"
      },
      "execution_count": 12,
      "outputs": []
    },
    {
      "cell_type": "code",
      "source": [],
      "metadata": {
        "id": "8z3KXAAZKMr6"
      },
      "execution_count": null,
      "outputs": []
    }
  ]
}